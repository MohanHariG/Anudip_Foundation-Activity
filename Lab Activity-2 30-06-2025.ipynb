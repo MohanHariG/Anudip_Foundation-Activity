{
 "cells": [
  {
   "cell_type": "markdown",
   "id": "206c5420",
   "metadata": {},
   "source": [
    "Using Input Function takes one number from the user and using ternary operator and check whether the number is even or odd"
   ]
  },
  {
   "cell_type": "code",
   "execution_count": 1,
   "id": "a301dd8f",
   "metadata": {},
   "outputs": [
    {
     "name": "stdout",
     "output_type": "stream",
     "text": [
      "Enter a Number12\n",
      "This Number is Even \n"
     ]
    }
   ],
   "source": [
    "num=int(input(\"Enter a Number\"))\n",
    "print(\"This Number is Even \") if num%2==0 else print(\"This NUmber is Odd\")"
   ]
  },
  {
   "cell_type": "markdown",
   "id": "5fd58b65",
   "metadata": {},
   "source": [
    "Using Input Function take two numbers and then swap the number"
   ]
  },
  {
   "cell_type": "code",
   "execution_count": 1,
   "id": "0369e4ce",
   "metadata": {},
   "outputs": [
    {
     "name": "stdout",
     "output_type": "stream",
     "text": [
      "Input 1st Number23\n",
      "Input 2nd number12\n",
      "23\n",
      "12\n",
      "12\n",
      "23\n"
     ]
    }
   ],
   "source": [
    "Num1=int(input(\"Input 1st Number\"))\n",
    "Num2=int(input(\"Input 2nd number\"))\n",
    "print(Num1)\n",
    "print(Num2)\n",
    "Num1,Num2=Num2,Num1\n",
    "print(Num1)\n",
    "print(Num2)"
   ]
  },
  {
   "cell_type": "markdown",
   "id": "712f42da",
   "metadata": {},
   "source": [
    "Write a program to convert kilometres to miles"
   ]
  },
  {
   "cell_type": "code",
   "execution_count": 5,
   "id": "4e05c9ea",
   "metadata": {},
   "outputs": [
    {
     "name": "stdout",
     "output_type": "stream",
     "text": [
      "Enter the Distance in Km12\n",
      "the miles are 7.4564520000000005\n"
     ]
    }
   ],
   "source": [
    "def kmtomiles(kilometres):\n",
    "    kmtomiles=0.621371\n",
    "    miles=kilometres*kmtomiles\n",
    "    return miles\n",
    "kilometres=float(input(\"Enter the Distance in Km\"))\n",
    "miles=kmtomiles(kilometres)\n",
    "print(\"the miles are\", miles)"
   ]
  },
  {
   "cell_type": "markdown",
   "id": "741753d7",
   "metadata": {},
   "source": [
    "Find the Simple Interest on Rs.200 for 5 years at 5% per Year"
   ]
  },
  {
   "cell_type": "code",
   "execution_count": 9,
   "id": "947624ca",
   "metadata": {},
   "outputs": [
    {
     "name": "stdout",
     "output_type": "stream",
     "text": [
      "50.0\n"
     ]
    }
   ],
   "source": [
    "def Simple_Interest(principal,rate,time):\n",
    "    interest=(principal*rate*time)/100\n",
    "    return interest\n",
    "principal=200\n",
    "rate=5\n",
    "time=5\n",
    "Final_Amount=Simple_Interest(principal,rate,time)\n",
    "print(Final_Amount)"
   ]
  },
  {
   "cell_type": "code",
   "execution_count": null,
   "id": "21b1ca66",
   "metadata": {},
   "outputs": [],
   "source": []
  },
  {
   "cell_type": "code",
   "execution_count": null,
   "id": "c3c2dcf2",
   "metadata": {},
   "outputs": [],
   "source": []
  }
 ],
 "metadata": {
  "kernelspec": {
   "display_name": "Python 3 (ipykernel)",
   "language": "python",
   "name": "python3"
  },
  "language_info": {
   "codemirror_mode": {
    "name": "ipython",
    "version": 3
   },
   "file_extension": ".py",
   "mimetype": "text/x-python",
   "name": "python",
   "nbconvert_exporter": "python",
   "pygments_lexer": "ipython3",
   "version": "3.11.5"
  }
 },
 "nbformat": 4,
 "nbformat_minor": 5
}
