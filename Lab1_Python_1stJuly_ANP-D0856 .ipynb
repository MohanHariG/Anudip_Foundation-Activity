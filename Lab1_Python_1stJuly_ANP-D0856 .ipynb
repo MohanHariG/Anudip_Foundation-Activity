{
 "cells": [
  {
   "cell_type": "code",
   "execution_count": null,
   "id": "895aa459",
   "metadata": {},
   "outputs": [],
   "source": [
    "#Even or odd\n",
    "num=int(input(\"Enter a number:\"))\n",
    "if num%2==0:\n",
    "    print(\"it is Even\")\n",
    "else:\n",
    "    print(\"it is odd\")"
   ]
  },
  {
   "cell_type": "code",
   "execution_count": null,
   "id": "8c5d54ac",
   "metadata": {},
   "outputs": [],
   "source": [
    "#Take 5 subject mark and find grade\n",
    "Sub1=int(input(\"Enter the mark\"))\n",
    "Sub2=int(input(\"Enter the mark\"))\n",
    "Sub3=int(input(\"Enter the mark\"))\n",
    "Sub4=int(input(\"Enter the mark\"))\n",
    "Sub5=int(input(\"Enter the mark\"))\n",
    "#Taking Inputs From The User\n",
    "total =Sub1+Sub2+Sub3+Sub4+Sub5\n",
    "Average=total/5\n",
    "\n",
    "if Average>=90:\n",
    "    grade='A'\n",
    "elif Average>=80:\n",
    "    grade='B'\n",
    "elif Average>=70:\n",
    "    grade='C'\n",
    "elif Average>=60:\n",
    "    grade='D'\n",
    "else:\n",
    "    grade:'F'\n",
    "#Printing the Average Marks And Grades        \n",
    "print(\"Average=\", Average)\n",
    "print(\"Grade=\", grade)"
   ]
  },
  {
   "cell_type": "code",
   "execution_count": null,
   "id": "e76ed673",
   "metadata": {},
   "outputs": [],
   "source": [
    "#Prime or Not\n",
    "num = int(input(\"Enter a number: \"))\n",
    "if num > 1:\n",
    "    for i in range(2, num):#taking the input from 2 as 1 is not a prime number\n",
    "        if (num % i) == 0:\n",
    "            print(num, \"is not a prime number\")\n",
    "            break\n",
    "    else:\n",
    "        print(num, \"is a prime number\")\n",
    "else:\n",
    "    print(num, \"is not a prime number\")"
   ]
  },
  {
   "cell_type": "code",
   "execution_count": null,
   "id": "b7f1459b",
   "metadata": {},
   "outputs": [],
   "source": [
    "#Take User input of Student(Id,Name,Age, City,Phone Number)And Display\n",
    "student_id = int(input(\"Enter Student ID: \"))\n",
    "name = input(\"Enter Student Name: \")\n",
    "age = int(input(\"Enter Student Age: \"))\n",
    "city = input(\"Enter Student City: \")\n",
    "phone = int(input(\"Enter Student Phone Number: \"))\n",
    "# Displaying the Student details\n",
    "print(\"\\nStudent Details:\")\n",
    "print(\"Student ID:\", student_id)\n",
    "print(\"Student Name:\", name)\n",
    "print(\"Student Age:\", age)\n",
    "print(\"Student City:\", city)\n",
    "print(\"Student Phone Number:\", phone)\n"
   ]
  },
  {
   "cell_type": "code",
   "execution_count": null,
   "id": "3eb3d819",
   "metadata": {},
   "outputs": [],
   "source": [
    "#Using Input Function takes one number from the user and using ternary operator and check whether the number is even or odd"
   ]
  },
  {
   "cell_type": "code",
   "execution_count": null,
   "id": "740e0ddb",
   "metadata": {},
   "outputs": [],
   "source": [
    "num=int(input(\"Enter a Number\"))\n",
    "print(\"This Number is Even \") if num%2==0 else print(\"This NUmber is Odd\")"
   ]
  },
  {
   "cell_type": "code",
   "execution_count": 1,
   "id": "ceafc1e9",
   "metadata": {},
   "outputs": [],
   "source": [
    "#Using Input Function take two numbers and then swap the number"
   ]
  },
  {
   "cell_type": "code",
   "execution_count": null,
   "id": "8bcdb6a9",
   "metadata": {},
   "outputs": [],
   "source": [
    "Num1=int(input(\"Input 1st Number\"))\n",
    "Num2=int(input(\"Input 2nd number\"))\n",
    "print(Num1)\n",
    "print(Num2)\n",
    "Num1,Num2=Num2,Num1\n",
    "print(Num1)\n",
    "print(Num2)"
   ]
  },
  {
   "cell_type": "code",
   "execution_count": 2,
   "id": "8f468e67",
   "metadata": {},
   "outputs": [],
   "source": [
    "#Write a program to convert kilometres to miles"
   ]
  },
  {
   "cell_type": "code",
   "execution_count": null,
   "id": "4339e607",
   "metadata": {},
   "outputs": [],
   "source": [
    "def kmtomiles(kilometres):\n",
    "    kmtomiles=0.621371\n",
    "    miles=kilometres*kmtomiles\n",
    "    return miles\n",
    "kilometres=float(input(\"Enter the Distance in Km\"))\n",
    "miles=kmtomiles(kilometres)\n",
    "print(\"the miles are\", miles)"
   ]
  },
  {
   "cell_type": "code",
   "execution_count": 3,
   "id": "655b7d28",
   "metadata": {},
   "outputs": [],
   "source": [
    "#Find the Simple Interest on Rs.200 for 5 years at 5% per Year"
   ]
  },
  {
   "cell_type": "code",
   "execution_count": null,
   "id": "484d22fb",
   "metadata": {},
   "outputs": [],
   "source": [
    "def Simple_Interest(principal,rate,time):\n",
    "    interest=(principal*rate*time)/100\n",
    "    return interest\n",
    "principal=200\n",
    "rate=5\n",
    "time=5\n",
    "Final_Amount=Simple_Interest(principal,rate,time)\n",
    "print(Final_Amount)"
   ]
  }
 ],
 "metadata": {
  "kernelspec": {
   "display_name": "Python 3 (ipykernel)",
   "language": "python",
   "name": "python3"
  },
  "language_info": {
   "codemirror_mode": {
    "name": "ipython",
    "version": 3
   },
   "file_extension": ".py",
   "mimetype": "text/x-python",
   "name": "python",
   "nbconvert_exporter": "python",
   "pygments_lexer": "ipython3",
   "version": "3.11.5"
  }
 },
 "nbformat": 4,
 "nbformat_minor": 5
}
