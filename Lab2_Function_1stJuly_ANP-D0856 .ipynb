{
 "cells": [
  {
   "cell_type": "code",
   "execution_count": null,
   "id": "46121ac5",
   "metadata": {},
   "outputs": [],
   "source": [
    "#Declare a div() function with two parameters. then call the function and pass two numbers and display their division\n",
    "def div(a, b):\n",
    "    return a / b\n",
    "result = div(10, 2)\n",
    "print(result)"
   ]
  },
  {
   "cell_type": "code",
   "execution_count": null,
   "id": "5fd22de6",
   "metadata": {},
   "outputs": [],
   "source": [
    "# Declare a Square() function with one parameter.then call the function and pass one number and display the square of that number.\n",
    "def square(number):\n",
    "    return number ** 2\n",
    "result = square(5)\n",
    "print(result)"
   ]
  },
  {
   "cell_type": "code",
   "execution_count": null,
   "id": "ad9614e1",
   "metadata": {},
   "outputs": [],
   "source": [
    "# Using max() and min() functions display the minimum and maximum of 5 random numbers.\n",
    "import random\n",
    "nums = random.sample(range(1, 101), 5)\n",
    "print(\"Min:\", min(nums), \"Max:\", max(nums))"
   ]
  },
  {
   "cell_type": "code",
   "execution_count": null,
   "id": "1190cd6a",
   "metadata": {},
   "outputs": [],
   "source": [
    "# Accept a name from the user and display that in lowercase using lower() function\n",
    "name = input(\"Enter your name: \").lower()\n",
    "print(\"Your name in lowercase is:\", name)"
   ]
  },
  {
   "cell_type": "code",
   "execution_count": null,
   "id": "44f60827",
   "metadata": {},
   "outputs": [],
   "source": [
    "# write a lambda function  that takes one arguement and returns 'Positive' if the number is greater than 0,'Negative' if it is less than 0, and 'Zero' if it is 0.Test it with different numbers.\n",
    "number = lambda num: \"Positive\" if num > 0 else \"Negative\" if num < 0 else \"Zero\"\n",
    "result = [number(num) for num in [5, -3, 0, 10, -7]]\n",
    "print(result)"
   ]
  },
  {
   "cell_type": "code",
   "execution_count": null,
   "id": "0436a1d0",
   "metadata": {},
   "outputs": [],
   "source": []
  }
 ],
 "metadata": {
  "kernelspec": {
   "display_name": "Python 3 (ipykernel)",
   "language": "python",
   "name": "python3"
  },
  "language_info": {
   "codemirror_mode": {
    "name": "ipython",
    "version": 3
   },
   "file_extension": ".py",
   "mimetype": "text/x-python",
   "name": "python",
   "nbconvert_exporter": "python",
   "pygments_lexer": "ipython3",
   "version": "3.11.5"
  }
 },
 "nbformat": 4,
 "nbformat_minor": 5
}
