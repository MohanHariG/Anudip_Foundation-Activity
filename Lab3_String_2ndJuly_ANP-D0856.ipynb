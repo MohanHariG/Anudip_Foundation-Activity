{
 "cells": [
  {
   "cell_type": "code",
   "execution_count": null,
   "id": "8c5c4b13",
   "metadata": {},
   "outputs": [],
   "source": [
    "# Write a program to check if a string is palindrome or not\n",
    "def is_palindrome(s):\n",
    "    return s == s[::-1]\n",
    "string = input(\"Enter a string: \")\n",
    "if is_palindrome(string):\n",
    "    print(\"The string is a palindrome.\")\n",
    "else:\n",
    "    print(\"The string is not a palindrome.\")"
   ]
  },
  {
   "cell_type": "code",
   "execution_count": null,
   "id": "57f92522",
   "metadata": {},
   "outputs": [],
   "source": [
    "# Count a number of vowels in a text\n",
    "def count_vowels(s):\n",
    "    vowels = 'aeiouAEIOU'\n",
    "    count = 0\n",
    "    for ch in s:\n",
    "        if ch in vowels:\n",
    "            count += 1\n",
    "    return count\n",
    "text = \"abc de\"\n",
    "print(count_vowels(text))\n"
   ]
  },
  {
   "cell_type": "code",
   "execution_count": null,
   "id": "f5dc38d2",
   "metadata": {},
   "outputs": [],
   "source": [
    "# Replace all the spaces with \"-\" in a text\n",
    "text = \"Hi I Am Mohan\"\n",
    "new_text = \"-\".join(text.split())\n",
    "print(new_text)\n"
   ]
  },
  {
   "cell_type": "code",
   "execution_count": null,
   "id": "5ccd5610",
   "metadata": {},
   "outputs": [],
   "source": [
    "# check if a password has atleast 8 character,one uppercase,one number\n",
    "def is_valid_password(password):\n",
    "    if len(password) < 8:\n",
    "        return False\n",
    "    has_upper = any(ch.isupper() for ch in password)\n",
    "    has_digit = any(ch.isdigit() for ch in password)\n",
    "    return has_upper and has_digit\n",
    "password = input(\"Enter your password: \")\n",
    "if is_valid_password(password):\n",
    "    print(\"Valid password\")\n",
    "else:\n",
    "    print(\"Invalid password\")"
   ]
  },
  {
   "cell_type": "code",
   "execution_count": null,
   "id": "5fecd5ca",
   "metadata": {},
   "outputs": [],
   "source": [
    "#extract domain from email(use@example.com)\n",
    "email = input(\"Enter your email: \")\n",
    "domain = email.split('@')[1]\n",
    "print(\"Domain:\", domain)\n"
   ]
  },
  {
   "cell_type": "code",
   "execution_count": null,
   "id": "c36df49a",
   "metadata": {},
   "outputs": [],
   "source": []
  }
 ],
 "metadata": {
  "kernelspec": {
   "display_name": "Python 3 (ipykernel)",
   "language": "python",
   "name": "python3"
  },
  "language_info": {
   "codemirror_mode": {
    "name": "ipython",
    "version": 3
   },
   "file_extension": ".py",
   "mimetype": "text/x-python",
   "name": "python",
   "nbconvert_exporter": "python",
   "pygments_lexer": "ipython3",
   "version": "3.11.5"
  }
 },
 "nbformat": 4,
 "nbformat_minor": 5
}
