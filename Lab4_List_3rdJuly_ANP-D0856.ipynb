{
 "cells": [
  {
   "cell_type": "code",
   "execution_count": null,
   "id": "9b7f0e2d",
   "metadata": {},
   "outputs": [],
   "source": [
    "# Add and remove Student names from a list\n",
    "\n",
    "students = []\n",
    "# Function to add a student\n",
    "def add_student(name):\n",
    "    students.append(name)\n",
    "    print(f\"{name} added to the list.\")\n",
    "# Function to remove a student\n",
    "def remove_student(name):\n",
    "    if name in students:\n",
    "        students.remove(name)\n",
    "        print(f\"{name} removed from the list.\")\n",
    "    else:\n",
    "        print(f\"{name} not found in the list.\")\n",
    "add_student(\"Alice\")\n",
    "add_student(\"Bob\")\n",
    "print(\"Current list:\", students)\n",
    "remove_student(\"Bob\")\n",
    "print(\"Current list:\", students)\n",
    "remove_student(\"Charlie\")  "
   ]
  },
  {
   "cell_type": "code",
   "execution_count": null,
   "id": "84268b65",
   "metadata": {},
   "outputs": [],
   "source": [
    "# Create a list of even  numbers from 1 to 20\n",
    "even_numbers = [i for i in range(1, 21) if i % 2 == 0]\n",
    "print(\"Even numbers from 1 to 20:\", even_numbers)\n"
   ]
  },
  {
   "cell_type": "code",
   "execution_count": null,
   "id": "d2b917fe",
   "metadata": {},
   "outputs": [],
   "source": [
    "# Find the Average of Marks from a list\n",
    "\n",
    "marks = [85, 90, 78, 92, 88]\n",
    "average = sum(marks) / len(marks)\n",
    "print(\"Average marks:\", average)"
   ]
  },
  {
   "cell_type": "code",
   "execution_count": null,
   "id": "e6c3b5d4",
   "metadata": {},
   "outputs": [],
   "source": [
    "#Check if a product is available in a shopping cart\n",
    "\n",
    "shopping_cart = [\"apple\", \"banana\", \"milk\", \"bread\", \"eggs\"]\n",
    "product = input(\"Enter the product name to check: \").lower()\n",
    "if product in shopping_cart:\n",
    "    print(f\"{product.capitalize()} is available in the cart.\")\n",
    "else:\n",
    "    print(f\"{product.capitalize()} is not available in the cart.\")"
   ]
  },
  {
   "cell_type": "code",
   "execution_count": null,
   "id": "da516427",
   "metadata": {},
   "outputs": [],
   "source": [
    "# Count how many times a name appears in a list\n",
    "\n",
    "names = [\"hari\", \"hari\", \"mohan\", \"hari\", \"raj\", \"mohan\"]\n",
    "search_name = input(\"Enter the name to count: \")\n",
    "count = names.count(search_name)\n",
    "print(f\"{search_name} appears {count} time(s) in the list.\")"
   ]
  },
  {
   "cell_type": "code",
   "execution_count": null,
   "id": "e1dfb540",
   "metadata": {},
   "outputs": [],
   "source": [
    "'''Write a Python program to split a given list into two parts where the length of the first\n",
    "part of the list is given.\n",
    "Original list:\n",
    "[1, 1, 2, 3, 4, 4, 5, 1]\n",
    "Length of the first part of the list: 3\n",
    "Splitted the said list into two parts:\n",
    "([1, 1, 2], [3, 4, 4, 5, 1])'''\n",
    "\n",
    "original_list = [1, 1, 2, 3, 4, 4, 5, 1]\n",
    "first_part_length = 3\n",
    "first_part = original_list[:first_part_length]\n",
    "second_part = original_list[first_part_length:]\n",
    "print(\"Original list:\", original_list)\n",
    "print(\"Length of the first part of the list:\", first_part_length)\n",
    "print(\"Splitted the said list into two parts:\")\n",
    "print((first_part, second_part))"
   ]
  }
 ],
 "metadata": {
  "kernelspec": {
   "display_name": "Python 3 (ipykernel)",
   "language": "python",
   "name": "python3"
  },
  "language_info": {
   "codemirror_mode": {
    "name": "ipython",
    "version": 3
   },
   "file_extension": ".py",
   "mimetype": "text/x-python",
   "name": "python",
   "nbconvert_exporter": "python",
   "pygments_lexer": "ipython3",
   "version": "3.11.5"
  }
 },
 "nbformat": 4,
 "nbformat_minor": 5
}
