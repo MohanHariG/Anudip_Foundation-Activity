{
 "cells": [
  {
   "cell_type": "code",
   "execution_count": null,
   "id": "592153bf",
   "metadata": {},
   "outputs": [],
   "source": [
    "# Write a python program and calculate the mean of the below dictionary\n",
    "\n",
    "test_dict = {\"A\": 6, \"B\": 9, \"C\": 5, \"D\": 7, \"E\": 4}\n",
    "values = test_dict.values()\n",
    "mean = sum(values) / len(values)\n",
    "print(\"Mean:\", mean)\n"
   ]
  },
  {
   "cell_type": "code",
   "execution_count": null,
   "id": "b4af4598",
   "metadata": {},
   "outputs": [],
   "source": [
    "#Write a Python script to concatenate the following dictionaries to create a new one.\n",
    "\n",
    "dic1={1:20,2:40}\n",
    "dic2={3:60,4:80}\n",
    "dic3={5:100,6:120}\n",
    "result={}\n",
    "for i in (dic1,dic2,dic3):\n",
    "    result.update(i)\n",
    "print(\"Final dictionary:\",result)"
   ]
  },
  {
   "cell_type": "code",
   "execution_count": null,
   "id": "6bbf21f9",
   "metadata": {},
   "outputs": [],
   "source": [
    "#Write a Python program to get the key, value and item in a dictionary.\n",
    "dict_num = {1: 10, 2: 20, 3: 30, 4: 40, 5: 50, 6: 60}\n",
    "print(\"the keys are:\")\n",
    "for key in dict_num.keys():\n",
    "    print(key)\n",
    "print(\"the values are:\")\n",
    "for value in dict_num.values():\n",
    "    print(value)\n",
    "print(\"The items are :\")\n",
    "for item in dict_num.items():\n",
    "    print(item)\n",
    "        "
   ]
  },
  {
   "cell_type": "code",
   "execution_count": null,
   "id": "8bc3f933",
   "metadata": {},
   "outputs": [],
   "source": [
    "'''build a simple Employee Management System using Python. Store the details of employees in a dictionary where the employee ID is the key and the value is another\n",
    " dictionary containing the employee's name, department, and salary.\n",
    "\n",
    "Write a Python program that:\n",
    "\n",
    "Stores details of at least 3 employees.\n",
    "\n",
    "Takes an employee ID as input from the user.\n",
    "\n",
    "If the employee ID exists, display the employee's name, department, and salary.\n",
    "\n",
    "If the employee ID does not exist, display \"Employee not found!\".'''\n",
    "\n",
    "employees = {}\n",
    "for i in range(3):\n",
    "    print(f\"\\nEnter details for Employee {i+1}:\")\n",
    "    emp_id = int(input(\"Employee ID: \"))\n",
    "    name = input(\"Name: \")\n",
    "    department = input(\"Department: \")\n",
    "    salary = float(input(\"Salary: \"))\n",
    "    employees[emp_id] = {\n",
    "        \"name\": name,\n",
    "        \"department\": department,\n",
    "        \"salary\": salary\n",
    "    }\n",
    "search_id = int(input(\"\\nEnter Employee ID to search: \"))\n",
    "if search_id in employees:\n",
    "    emp = employees[search_id]\n",
    "    print(\"\\nEmployee Details:\")\n",
    "    print(\"Name:\", emp[\"name\"])\n",
    "    print(\"Department:\", emp[\"department\"])\n",
    "    print(\"Salary:\", emp[\"salary\"])\n",
    "else:\n",
    "    print(\"Employee not found!\")\n"
   ]
  },
  {
   "cell_type": "code",
   "execution_count": null,
   "id": "3a529b73",
   "metadata": {},
   "outputs": [],
   "source": []
  },
  {
   "cell_type": "code",
   "execution_count": null,
   "id": "c9a50b11",
   "metadata": {},
   "outputs": [],
   "source": []
  },
  {
   "cell_type": "code",
   "execution_count": null,
   "id": "0f41e22a",
   "metadata": {},
   "outputs": [],
   "source": []
  }
 ],
 "metadata": {
  "kernelspec": {
   "display_name": "Python 3 (ipykernel)",
   "language": "python",
   "name": "python3"
  },
  "language_info": {
   "codemirror_mode": {
    "name": "ipython",
    "version": 3
   },
   "file_extension": ".py",
   "mimetype": "text/x-python",
   "name": "python",
   "nbconvert_exporter": "python",
   "pygments_lexer": "ipython3",
   "version": "3.11.5"
  }
 },
 "nbformat": 4,
 "nbformat_minor": 5
}
