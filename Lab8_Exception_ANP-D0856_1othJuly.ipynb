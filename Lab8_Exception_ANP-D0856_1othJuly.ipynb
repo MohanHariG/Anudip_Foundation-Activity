{
 "cells": [
  {
   "cell_type": "code",
   "execution_count": null,
   "id": "8bbbe8a6",
   "metadata": {},
   "outputs": [],
   "source": [
    "'''Problem1: Enter marks for 5 subjects. Raise an exception if any mark is below 0 or above 100.\n",
    "Requirement:\n",
    "Use raise for invalid mark\n",
    "Handle using try-except'''\n",
    "\n",
    "marks=[]\n",
    "try:\n",
    "    for i in range(1,6):\n",
    "        mark=int(input(\"Enter the marks:\"))\n",
    "        if mark<0 or mark>100:\n",
    "            raise ValueError(\"marks Should be between 0 and 100\")\n",
    "        marks.append(mark)\n",
    "    print(\"Marks:\",marks)\n",
    "except ValueError as e:\n",
    "    print(\"Error:\",e)\n"
   ]
  },
  {
   "cell_type": "code",
   "execution_count": null,
   "id": "9af55b54",
   "metadata": {},
   "outputs": [],
   "source": [
    "'''Problem2: Take an email input. If it doesnâ€™t contain \"@\" and \".\", raise a ValueError.\n",
    "Requirement:\n",
    "Custom message: \"Invalid email format\"'''\n",
    "try:\n",
    "    email = input(\"Enter your email: \")\n",
    "\n",
    "    if \"@\" not in email or \".\" not in email:\n",
    "        raise ValueError(\"Invalid email format\")\n",
    "    print(\"email entered:\", email)\n",
    "except ValueError as e:\n",
    "    print(\"Error:\", e)"
   ]
  },
  {
   "cell_type": "code",
   "execution_count": null,
   "id": "41a3b549",
   "metadata": {},
   "outputs": [],
   "source": [
    "'''Problem:3 Allow user 3 login attempts. Raise PermissionError if login fails 3 times.\n",
    "Requirement:\n",
    "Use a loop with exception raising\n",
    "Use break if login is successful'''\n",
    "\n",
    "# username and password\n",
    "correct_username = \"admin\"\n",
    "correct_password = \"1234\"\n",
    "attempts = 0\n",
    "while attempts < 3:\n",
    "    username = input(\"Enter username: \")\n",
    "    password = input(\"Enter password: \")\n",
    "    if username == correct_username and password == correct_password:\n",
    "        print(\"Login successful!\")\n",
    "        break\n",
    "    else:\n",
    "        print(\"Invalid credentials. Try again.\")\n",
    "        attempts += 1\n",
    "if attempts == 3:\n",
    "    raise PermissionError(\"Login failed 3 times. Access denied.\")"
   ]
  },
  {
   "cell_type": "code",
   "execution_count": null,
   "id": "ac9df718",
   "metadata": {},
   "outputs": [],
   "source": [
    "'''Problem4: Accept a password and check if it's at least 8 characters long. If not, raise an exception.\n",
    "Requirement:\n",
    "Use raise ValueError(\"Weak password\")\n",
    "Use try-except block to catch and print custom message'''\n",
    "\n",
    "try:\n",
    "    password = input(\"Enter your password: \")\n",
    "    if len(password) < 8:\n",
    "        raise ValueError(\"Weak password\")\n",
    "    else:\n",
    "        print(\"Password accepted.\")\n",
    "except ValueError as e:\n",
    "    print(e)\n"
   ]
  },
  {
   "cell_type": "code",
   "execution_count": null,
   "id": "2b1c4b85",
   "metadata": {},
   "outputs": [],
   "source": [
    "'''Problem5: Create a custom exception class NegativeNumberError and raise it if user inputs a negative number.\n",
    "\n",
    "Requirement:\n",
    "Define your own exception class\n",
    "Handle it using try-except'''\n",
    "\n",
    "class NegativeNumberError(Exception):\n",
    "    pass\n",
    "def check_positive_number(num):\n",
    "    if num < 0:\n",
    "        raise NegativeNumberError(\"Negative numbers are not allowed.\")\n",
    "    return num\n",
    "try:\n",
    "    value = int(input(\"Enter a number: \"))\n",
    "    result = check_positive_number(value)\n",
    "    print(\"You entered:\", result)\n",
    "except NegativeNumberError as e:\n",
    "    print(\"Error:\", e)\n",
    "except ValueError:\n",
    "    print(\"Invalid input. Please enter a numeric value.\")"
   ]
  }
 ],
 "metadata": {
  "kernelspec": {
   "display_name": "Python 3 (ipykernel)",
   "language": "python",
   "name": "python3"
  },
  "language_info": {
   "codemirror_mode": {
    "name": "ipython",
    "version": 3
   },
   "file_extension": ".py",
   "mimetype": "text/x-python",
   "name": "python",
   "nbconvert_exporter": "python",
   "pygments_lexer": "ipython3",
   "version": "3.11.5"
  }
 },
 "nbformat": 4,
 "nbformat_minor": 5
}
