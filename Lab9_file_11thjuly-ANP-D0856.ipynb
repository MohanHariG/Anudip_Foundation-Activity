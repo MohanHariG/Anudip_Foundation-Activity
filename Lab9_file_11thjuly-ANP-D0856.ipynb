{
 "cells": [
  {
   "cell_type": "code",
   "execution_count": null,
   "id": "5122e941",
   "metadata": {},
   "outputs": [],
   "source": [
    "#Write a function in python to read the content from a text file \"ABC.txt\" line by line and display the same on screen.\n",
    "def read_file():\n",
    "    try:\n",
    "        with open(\"ABC.txt\", \"r\") as file:\n",
    "            for line in file:\n",
    "                print(line.strip())  \n",
    "    except FileNotFoundError:\n",
    "        print(\"File 'ABC.txt' not found.\")\n",
    "read_file()"
   ]
  },
  {
   "cell_type": "code",
   "execution_count": null,
   "id": "de237bb7",
   "metadata": {},
   "outputs": [],
   "source": [
    "# Write a function in Python to count and display the total number of words in a text file ABC.txt\n",
    "def count_words_in_file():\n",
    "    try:\n",
    "        with open(\"ABC.txt\", \"r\") as file:\n",
    "            text = file.read()\n",
    "            words = text.split()\n",
    "            print(\"Total number of words:\", len(words))\n",
    "    except FileNotFoundError:\n",
    "        print(\"File 'ABC.txt' not found.\")\n",
    "count_words_in_file()"
   ]
  },
  {
   "cell_type": "code",
   "execution_count": null,
   "id": "b0f5ee19",
   "metadata": {},
   "outputs": [],
   "source": [
    "# Write a function in Python to count uppercase character in a text file ABC.txt\n",
    "def count_uppercase_in_file():\n",
    "    try:\n",
    "        with open(\"ABC.txt\", \"r\") as file:\n",
    "            content = file.read()\n",
    "            uppercase_count = sum(1 for char in content if char.isupper())\n",
    "            print(\"Total uppercase characters:\", uppercase_count)\n",
    "    except FileNotFoundError:\n",
    "        print(\"File 'ABC.txt' not found.\")\n",
    "count_uppercase_in_file()"
   ]
  },
  {
   "cell_type": "code",
   "execution_count": null,
   "id": "c39b12cb",
   "metadata": {},
   "outputs": [],
   "source": [
    "# Write a function display_words() in python to read lines from a text file \"story.txt\",and display those words, which are less than 4 characters.\n",
    "def display_words():\n",
    "    try:\n",
    "        with open(\"story.txt\", \"r\") as file:\n",
    "            for line in file:\n",
    "                words = line.split()\n",
    "                for word in words:\n",
    "                    if len(word) < 4:\n",
    "                        print(word)\n",
    "    except FileNotFoundError:\n",
    "        print(\"File 'story.txt' not found.\")\n",
    "display_words()"
   ]
  }
 ],
 "metadata": {
  "kernelspec": {
   "display_name": "Python 3 (ipykernel)",
   "language": "python",
   "name": "python3"
  },
  "language_info": {
   "codemirror_mode": {
    "name": "ipython",
    "version": 3
   },
   "file_extension": ".py",
   "mimetype": "text/x-python",
   "name": "python",
   "nbconvert_exporter": "python",
   "pygments_lexer": "ipython3",
   "version": "3.11.5"
  }
 },
 "nbformat": 4,
 "nbformat_minor": 5
}
