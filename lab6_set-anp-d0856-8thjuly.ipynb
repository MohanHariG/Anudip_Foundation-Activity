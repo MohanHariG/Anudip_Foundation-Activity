{
 "cells": [
  {
   "cell_type": "code",
   "execution_count": null,
   "id": "0555a33e",
   "metadata": {},
   "outputs": [],
   "source": [
    "# write a python program to get only unique items from two sets\n",
    "set1 = {10, 20, 30, 40, 50}\n",
    "set2 = {30, 40, 50, 60, 70}\n",
    "union_set = set1.union(set2)\n",
    "print(\"Union of set1 and set2:\", union_set)"
   ]
  },
  {
   "cell_type": "code",
   "execution_count": null,
   "id": "664e1171",
   "metadata": {},
   "outputs": [],
   "source": [
    "# write a python program to return a set of elements present in set A or B,but not both\n",
    "set_a = {10, 20, 30, 40, 50}\n",
    "set_b = {30, 40, 50, 60, 70}\n",
    "symmetric_diff = set_a.symmetric_difference(set_b)\n",
    "print( symmetric_diff)"
   ]
  },
  {
   "cell_type": "code",
   "execution_count": null,
   "id": "acf574f5",
   "metadata": {},
   "outputs": [],
   "source": [
    "# write a python program to check if two sets have any elements in common, if yes display the common elements\n",
    "set1 = {10, 20, 30, 40, 50}\n",
    "set2 = {30, 40, 50, 60, 70}\n",
    "common = set1.intersection(set2)\n",
    "print(common)"
   ]
  },
  {
   "cell_type": "code",
   "execution_count": null,
   "id": "93c59fec",
   "metadata": {},
   "outputs": [],
   "source": [
    "#ask the user how many visitors visited the website.Take the visitor names(or IDs) as input one by one.store the visitor names in a set to avoid duplicates.At the End Display:the list of unique visitors, total number of unique visitors\n",
    "\n",
    "num_visitors = int(input(\"How many visitors visited the website? \"))\n",
    "visitor_set = set()\n",
    "for i in range(num_visitors):\n",
    "    name = input(f\"Enter name or ID of visitor {i+1}: \")\n",
    "    visitor_set.add(name)\n",
    "print(\"\\n--- Unique Visitors ---\")\n",
    "for visitor in visitor_set:\n",
    "    print(visitor)\n",
    "print(f\"\\nTotal number of unique visitors: {len(visitor_set)}\")"
   ]
  },
  {
   "cell_type": "code",
   "execution_count": null,
   "id": "110d9b25",
   "metadata": {},
   "outputs": [],
   "source": [
    "# Take comma-separated hobby input from two users\n",
    "Friend1 = input(\"Enter hobbies of Friend 1 (comma-separated): \")\n",
    "Friend2 = input(\"Enter hobbies of Friend 2 (comma-separated): \")\n",
    "set1 = set(hobby.strip().lower() for hobby in Friend1.split(','))\n",
    "set2 = set(hobby.strip().lower() for hobby in Friend2.split(','))\n",
    "common_hobbies = set1.intersection(set2)\n",
    "all_hobbies = set1.union(set2)\n",
    "unique_to_friend1 = set1 - set2\n",
    "unique_to_friend2 = set2 - set1\n",
    "print(\"Common hobbies:\", ', '.join(common_hobbies) if common_hobbies else \"None\")\n",
    "print(\"All hobbies:\", ', '.join(all_hobbies))\n",
    "print(\"Hobbies unique to Friend 1:\", ', '.join(unique_to_friend1) if unique_to_friend1 else \"None\")\n",
    "print(\"Hobbies unique to Friend 2:\", ', '.join(unique_to_friend2) if unique_to_friend2 else \"None\")\n"
   ]
  },
  {
   "cell_type": "code",
   "execution_count": null,
   "id": "e1384268",
   "metadata": {},
   "outputs": [],
   "source": []
  }
 ],
 "metadata": {
  "kernelspec": {
   "display_name": "Python 3 (ipykernel)",
   "language": "python",
   "name": "python3"
  },
  "language_info": {
   "codemirror_mode": {
    "name": "ipython",
    "version": 3
   },
   "file_extension": ".py",
   "mimetype": "text/x-python",
   "name": "python",
   "nbconvert_exporter": "python",
   "pygments_lexer": "ipython3",
   "version": "3.11.5"
  }
 },
 "nbformat": 4,
 "nbformat_minor": 5
}
